{
 "cells": [
  {
   "cell_type": "code",
   "execution_count": 68,
   "id": "2ddc867f",
   "metadata": {},
   "outputs": [],
   "source": [
    "from langchain.agents import tool"
   ]
  },
  {
   "cell_type": "code",
   "execution_count": 69,
   "id": "ccbab82b",
   "metadata": {},
   "outputs": [],
   "source": [
    "@tool\n",
    "def multiply(a:int,b:int)->int:\n",
    "    '''This is a multiplication tool'''\n",
    "    return a*b"
   ]
  },
  {
   "cell_type": "code",
   "execution_count": 70,
   "id": "096a5585",
   "metadata": {},
   "outputs": [
    {
     "data": {
      "text/plain": [
       "40"
      ]
     },
     "execution_count": 70,
     "metadata": {},
     "output_type": "execute_result"
    }
   ],
   "source": [
    "multiply.invoke({\"a\":10,\"b\":4})"
   ]
  },
  {
   "cell_type": "code",
   "execution_count": 71,
   "id": "9040ca28",
   "metadata": {},
   "outputs": [],
   "source": [
    "@tool\n",
    "def get_word_length(word1):\n",
    "    \"\"\"This is a tool for calcualting the length of word\"\"\"\n",
    "    return len(word1)"
   ]
  },
  {
   "cell_type": "code",
   "execution_count": 72,
   "id": "6176197f",
   "metadata": {},
   "outputs": [
    {
     "data": {
      "text/plain": [
       "7"
      ]
     },
     "execution_count": 72,
     "metadata": {},
     "output_type": "execute_result"
    }
   ],
   "source": [
    "get_word_length.invoke({\"word1\":\"pratham\"})"
   ]
  },
  {
   "cell_type": "code",
   "execution_count": 73,
   "id": "a176cc62",
   "metadata": {},
   "outputs": [],
   "source": [
    "def function1(input1):\n",
    "    return input1 + \" from function1\""
   ]
  },
  {
   "cell_type": "code",
   "execution_count": 74,
   "id": "de12b97c",
   "metadata": {},
   "outputs": [],
   "source": [
    "def function2(input2):\n",
    "    return input2 + \" from function2\""
   ]
  },
  {
   "cell_type": "code",
   "execution_count": 75,
   "id": "47358738",
   "metadata": {},
   "outputs": [],
   "source": [
    "def function3(input3):\n",
    "    pass"
   ]
  },
  {
   "cell_type": "code",
   "execution_count": 76,
   "id": "7f57e612",
   "metadata": {},
   "outputs": [],
   "source": [
    "from langgraph.graph import StateGraph\n",
    "from typing import Annotated\n",
    "from langgraph.graph.message import add_messages\n",
    "from typing_extensions import TypedDict"
   ]
  },
  {
   "cell_type": "code",
   "execution_count": 77,
   "id": "089f8005",
   "metadata": {},
   "outputs": [],
   "source": [
    "# Simple state - just a string value\n",
    "State = str"
   ]
  },
  {
   "cell_type": "code",
   "execution_count": 78,
   "id": "562f2866",
   "metadata": {},
   "outputs": [],
   "source": [
    "workflow1=StateGraph(State)"
   ]
  },
  {
   "cell_type": "code",
   "execution_count": 79,
   "id": "fc27713c",
   "metadata": {},
   "outputs": [
    {
     "data": {
      "text/plain": [
       "<langgraph.graph.state.StateGraph at 0x2240eb3e150>"
      ]
     },
     "execution_count": 79,
     "metadata": {},
     "output_type": "execute_result"
    }
   ],
   "source": [
    "workflow1.add_node(\"fun1\",function1)"
   ]
  },
  {
   "cell_type": "code",
   "execution_count": 80,
   "id": "6107e315",
   "metadata": {},
   "outputs": [
    {
     "data": {
      "text/plain": [
       "<langgraph.graph.state.StateGraph at 0x2240eb3e150>"
      ]
     },
     "execution_count": 80,
     "metadata": {},
     "output_type": "execute_result"
    }
   ],
   "source": [
    "workflow1.add_node(\"fun2\",function2)"
   ]
  },
  {
   "cell_type": "code",
   "execution_count": 81,
   "id": "d5c146aa",
   "metadata": {},
   "outputs": [
    {
     "data": {
      "text/plain": [
       "<langgraph.graph.state.StateGraph at 0x2240eb3e150>"
      ]
     },
     "execution_count": 81,
     "metadata": {},
     "output_type": "execute_result"
    }
   ],
   "source": [
    "workflow1.add_edge(\"fun1\",\"fun2\")"
   ]
  },
  {
   "cell_type": "code",
   "execution_count": 82,
   "id": "b178e536",
   "metadata": {},
   "outputs": [
    {
     "data": {
      "text/plain": [
       "<langgraph.graph.state.StateGraph at 0x2240eb3e150>"
      ]
     },
     "execution_count": 82,
     "metadata": {},
     "output_type": "execute_result"
    }
   ],
   "source": [
    "workflow1.set_entry_point(\"fun1\")"
   ]
  },
  {
   "cell_type": "code",
   "execution_count": 83,
   "id": "2a60b5d6",
   "metadata": {},
   "outputs": [
    {
     "data": {
      "text/plain": [
       "<langgraph.graph.state.StateGraph at 0x2240eb3e150>"
      ]
     },
     "execution_count": 83,
     "metadata": {},
     "output_type": "execute_result"
    }
   ],
   "source": [
    "workflow1.set_finish_point(\"fun2\")"
   ]
  },
  {
   "cell_type": "code",
   "execution_count": 84,
   "id": "1163c7d2",
   "metadata": {},
   "outputs": [],
   "source": [
    "app=workflow1.compile()"
   ]
  },
  {
   "cell_type": "code",
   "execution_count": 85,
   "id": "4afadd65",
   "metadata": {},
   "outputs": [
    {
     "data": {
      "image/png": "[encoded data removed]",
      "text/plain": [
       "<IPython.core.display.Image object>"
      ]
     },
     "metadata": {},
     "output_type": "display_data"
    }
   ],
   "source": [
    "from IPython.display import Image,display\n",
    "display(Image(app.get_graph().draw_mermaid_png()))"
   ]
  },
  {
   "cell_type": "code",
   "execution_count": 86,
   "id": "25c64351",
   "metadata": {},
   "outputs": [
    {
     "data": {
      "text/plain": [
       "'hi this is pratham from function1 from function2'"
      ]
     },
     "execution_count": 86,
     "metadata": {},
     "output_type": "execute_result"
    }
   ],
   "source": [
    "app.invoke(\"hi this is pratham\")"
   ]
  },
  {
   "cell_type": "code",
   "execution_count": 87,
   "id": "3b1ff954",
   "metadata": {},
   "outputs": [
    {
     "name": "stdout",
     "output_type": "stream",
     "text": [
      "here is output from fun1\n",
      "______\n",
      "hi this is rohit from function1\n",
      "\n",
      "\n",
      "here is output from fun2\n",
      "______\n",
      "hi this is rohit from function1 from function2\n",
      "\n",
      "\n"
     ]
    }
   ],
   "source": [
    "for output in app.stream(\"hi this is rohit\"):\n",
    "    for key,val in output.items():\n",
    "        print(f\"here is output from {key}\")\n",
    "        print(\"______\")\n",
    "        print(val)\n",
    "        print(\"\\n\")"
   ]
  },
  {
   "cell_type": "code",
   "execution_count": 88,
   "id": "a6a6d822",
   "metadata": {},
   "outputs": [
    {
     "data": {
      "text/plain": [
       "True"
      ]
     },
     "execution_count": 88,
     "metadata": {},
     "output_type": "execute_result"
    }
   ],
   "source": [
    "from langchain_openai import AzureChatOpenAI\n",
    "import os\n",
    "from dotenv import load_dotenv\n",
    "\n",
    "load_dotenv()\n",
    "\n"
   ]
  },
  {
   "cell_type": "code",
   "execution_count": 89,
   "id": "6f34789d",
   "metadata": {},
   "outputs": [],
   "source": [
    "\n",
    "\n",
    "def token_counter(input):\n",
    "    return f\"Number of tokens{len(input.split())}\"\n",
    "    "
   ]
  },
  {
   "cell_type": "code",
   "execution_count": 90,
   "id": "60e60fef",
   "metadata": {},
   "outputs": [],
   "source": [
    "State2=str"
   ]
  },
  {
   "cell_type": "code",
   "execution_count": 91,
   "id": "39621cce",
   "metadata": {},
   "outputs": [],
   "source": [
    "workflow2=StateGraph(State2)"
   ]
  },
  {
   "cell_type": "code",
   "execution_count": 92,
   "id": "20910df6",
   "metadata": {},
   "outputs": [],
   "source": [
    "import sys\n",
    "import os\n",
    "sys.path.append(os.path.dirname(os.getcwd()))  # Go up one directory\n",
    "\n",
    "from llm_provider import LLM_provider\n",
    "llm=LLM_provider()"
   ]
  },
  {
   "cell_type": "code",
   "execution_count": 93,
   "id": "7557f88c",
   "metadata": {},
   "outputs": [
    {
     "data": {
      "text/plain": [
       "<langgraph.graph.state.StateGraph at 0x2240eb3cad0>"
      ]
     },
     "execution_count": 93,
     "metadata": {},
     "output_type": "execute_result"
    }
   ],
   "source": [
    "workflow2.add_node(\"My-LLM\",llm.invoke)"
   ]
  },
  {
   "cell_type": "code",
   "execution_count": 94,
   "id": "a504f07e",
   "metadata": {},
   "outputs": [
    {
     "data": {
      "text/plain": [
       "<langgraph.graph.state.StateGraph at 0x2240eb3cad0>"
      ]
     },
     "execution_count": 94,
     "metadata": {},
     "output_type": "execute_result"
    }
   ],
   "source": [
    "workflow2.add_node(\"LLM_token_counter\",token_counter)"
   ]
  },
  {
   "cell_type": "code",
   "execution_count": 95,
   "id": "1139dd94",
   "metadata": {},
   "outputs": [
    {
     "data": {
      "text/plain": [
       "<langgraph.graph.state.StateGraph at 0x2240eb3cad0>"
      ]
     },
     "execution_count": 95,
     "metadata": {},
     "output_type": "execute_result"
    }
   ],
   "source": [
    "workflow2.add_edge(\"My-LLM\",\"LLM_token_counter\")"
   ]
  },
  {
   "cell_type": "code",
   "execution_count": 96,
   "id": "99c1a17a",
   "metadata": {},
   "outputs": [
    {
     "data": {
      "text/plain": [
       "<langgraph.graph.state.StateGraph at 0x2240eb3cad0>"
      ]
     },
     "execution_count": 96,
     "metadata": {},
     "output_type": "execute_result"
    }
   ],
   "source": [
    "workflow2.set_entry_point(\"My-LLM\")\n",
    "workflow2.set_finish_point(\"LLM_token_counter\")"
   ]
  },
  {
   "cell_type": "code",
   "execution_count": 97,
   "id": "38083fb4",
   "metadata": {},
   "outputs": [],
   "source": [
    "app2=workflow2.compile()"
   ]
  },
  {
   "cell_type": "code",
   "execution_count": 98,
   "id": "e608a284",
   "metadata": {},
   "outputs": [
    {
     "data": {
      "image/png": "[encoded data removed]",
      "text/plain": [
       "<IPython.core.display.Image object>"
      ]
     },
     "metadata": {},
     "output_type": "display_data"
    }
   ],
   "source": [
    "from IPython.display import Image,display\n",
    "display(Image(app2.get_graph().draw_mermaid_png()))"
   ]
  },
  {
   "cell_type": "code",
   "execution_count": 99,
   "id": "5e8753fa",
   "metadata": {},
   "outputs": [
    {
     "data": {
      "text/plain": [
       "'Number of tokens2'"
      ]
     },
     "execution_count": 99,
     "metadata": {},
     "output_type": "execute_result"
    }
   ],
   "source": [
    "app2.invoke(\"can you tell me about indias capital? just the answer\")"
   ]
  },
  {
   "cell_type": "code",
   "execution_count": 100,
   "id": "47fabd41",
   "metadata": {},
   "outputs": [
    {
     "name": "stdout",
     "output_type": "stream",
     "text": [
      "here is output from My-LLM\n",
      "______\n",
      "Unique.\n",
      "\n",
      "\n",
      "here is output from LLM_token_counter\n",
      "______\n",
      "Number of tokens1\n",
      "\n",
      "\n"
     ]
    }
   ],
   "source": [
    "for output in app2.stream(\"describe me in one word\"):\n",
    "    for key,val in output.items():\n",
    "        print(f\"here is output from {key}\")\n",
    "        print(\"______\")\n",
    "        print(val)\n",
    "        print(\"\\n\")"
   ]
  }
 ],
 "metadata": {
  "kernelspec": {
   "display_name": "venv",
   "language": "python",
   "name": "python3"
  },
  "language_info": {
   "codemirror_mode": {
    "name": "ipython",
    "version": 3
   },
   "file_extension": ".py",
   "mimetype": "text/x-python",
   "name": "python",
   "nbconvert_exporter": "python",
   "pygments_lexer": "ipython3",
   "version": "3.11.9"
  }
 },
 "nbformat": 4,
 "nbformat_minor": 5
}
